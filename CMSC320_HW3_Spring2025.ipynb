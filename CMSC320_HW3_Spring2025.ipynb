{
 "cells": [
  {
   "cell_type": "markdown",
   "metadata": {
    "id": "ZuEbtOi43OQc"
   },
   "source": [
    "# **HOMEWORK 3...?** 🕵\n",
    "## **DUE: *MARCH 25, 2025 @ 11:59 PM***\n",
    "## **24-HR LATE DUE DATE W/ A 15% PENALTY: *MARCH 26, 2025 @ 11:59 PM***\n",
    "\n",
    "### **DO NOT REMOVE ANY PART OF ANY OF THE QUESTIONS OR YOU LOSE CREDIT**\n",
    "### *No Hardcoding Any Part of Any Question*  😋🪄🧌\n",
    "### **REMEMBER TO SHOW ALL CODE OUTPUT (NO CREDIT OTHERWISE)**\n",
    "### **Reminder: Please make sure your code runs before submitting your work. Code sections that do not run will receive 0 credits, no partials will be given. This is VERY important in real project development.**"
   ]
  },
  {
   "cell_type": "markdown",
   "metadata": {
    "id": "1kCoK2ZH4HdN"
   },
   "source": [
    "---\n",
    "---\n",
    "**DISCLAIMER: This is a fake story, not a real incident! We have created this story just for the data exploration purpose.**\n",
    "\n",
    "---\n",
    "---\n",
    "\n",
    "**Campus Police Department**\n",
    "\n",
    "Incident Report\n",
    "\n",
    "---\n",
    "\n",
    "**Incident Date:** Febuary 27, 2025\n",
    "\n",
    "**Location of Incident:** 2nd Floor, Iribe Building\n",
    "\n",
    "**Items Left at the Scene:** Red Ticket for Zichao's Magic Show\n",
    "\n",
    "**Case Number:** 2025-IRB-0027\n",
    "\n",
    "---\n",
    "**Victim Information:**\n",
    "\n",
    "**Name:** Dr. Fardina Alam\n",
    "\n",
    "**Affiliation:** University of Maryland, College Park\n",
    "\n",
    "**Position:** Professor\n",
    "\n",
    "**Contact Information:** fardina@umd.edu\n",
    "\n",
    "---\n",
    "\n",
    "**Incident Description:**\n",
    "\n",
    "On the evening of Febuary 27, 2025, an unknown individual(s) unlawfully entered Dr. Fardina's room located on the 2nd floor of Iribe and stole a set of Markers. The stolen items were a set of limited edition markers that Dr. Fardina had spent years collecting. At the scene of the crime, a red entry ticket for \"Zichao's Magic Show\" was found on the floor near Dr. Fardina's desk.\n",
    "\n",
    "\n",
    "\n",
    "\n"
   ]
  },
  {
   "cell_type": "code",
   "execution_count": 3,
   "metadata": {
    "id": "4rVgG-Vi7a_O"
   },
   "outputs": [],
   "source": [
    "# We import all essential libraries for this HW.\n",
    "# If you want to add additional libraries, you can add more here!\n",
    "import pandas as pd\n",
    "from datetime import datetime\n",
    "import string\n",
    "from collections import Counter\n",
    "import statistics\n",
    "from scipy.stats import mode"
   ]
  },
  {
   "cell_type": "markdown",
   "metadata": {
    "id": "ZBLEXsMU7gqH"
   },
   "source": [
    "## YOUR TASK 🔎:\n",
    "\n",
    "In this assignment, you are tasked with solving the mystery of Dr. Fardina's stolen markers and finding the culprit.\n",
    "\n",
    "* To accomplish this, you will be provided with **4 data sets** containing key information related to the incident. The list of the data sets name given below:\n",
    "\n",
    " - Profiles\n",
    " - Witnesses\n",
    " - Zichao's magic show\n",
    " - Interrogation Statements\n",
    "\n",
    "\n",
    "\n",
    "* Your goal is to analyze these data sets to uncover the clues and evidences that will lead you to the thief.\n",
    "\n",
    "**Be careful in following instructions as it may lead to you losing points :(**\n",
    "\n",
    "Take a moment to look at all the data sets below:\n",
    "\n",
    "---\n",
    "\n",
    "**Profiles:**\n",
    "\n",
    "This dataset contains information regarding all the potential people that could have committed the crime. General information regarding each person are as follows:\n",
    "- **ID:** A **unique** identification for each person\n",
    "- **Name:** The name of the person\n",
    "- **Birthday:** The birthday of the person\n",
    "- **Location_during_crime:** The location of the person during the crime\n",
    "- **Eye_Color:** The eye color of the person\n",
    "- **Skin_Color:** The skin color of the person\n",
    "- **Hair_Color:** The hair color of the person\n",
    "- **Height:** The height of the person in cm\n",
    "\n",
    "**Witnesses:**\n",
    "\n",
    "This dataset contains a statement from everyone in profiles, regarding suspicious things they saw during the time of the crime. Information that comes in this dataset are as follows:\n",
    "- **ID:** A **Unique** identification for each person\n",
    "- **Statement:** A statement from the person regarding a suspicious activity during the time of the crime\n",
    "\n",
    "**Zichao's Magic Show:**\n",
    "\n",
    "This dataset contains everyone that purchased a ticket for the show. **NOTE** that not everyone in profiles has purchased a ticket for this show. The Information contained in this dataset are as follows:\n",
    "- **ID:** A **Unique** indentification for each person\n",
    "- **Ticket_Number:** A **Unique** number that serves as an identification for the ticket bought\n",
    "\n",
    "**Interrogation Statements:**\n",
    "\n",
    "This datasets contains a statement from each person after they have been interrogated. **NOTE** assume that each statement is ***100% true*** and that ***there are people in this dataset who aren't in the \"Profiles\" dataset***.\n",
    "Information contained in this dataset are as follows:\n",
    "\n",
    "- **Name:** The name of the person being interrogated\n",
    "- **Statement:** A statement the person gives after being interrogated\n",
    "\n",
    "---"
   ]
  },
  {
   "cell_type": "markdown",
   "metadata": {
    "id": "x-yyybk6EOO2"
   },
   "source": [
    "## Q1) Lets begin by observing the profiles dataset (10 PTS Total)\n",
    "\n",
    "\n",
    "\n"
   ]
  },
  {
   "cell_type": "markdown",
   "metadata": {
    "id": "_MXHft5me_eA"
   },
   "source": [
    "\n",
    "**TASK 1.1 (1 Point):**  In the code box below, load in \"Profiles\" dataset into a variable called **profiles_df** and display it"
   ]
  },
  {
   "cell_type": "code",
   "execution_count": 4,
   "metadata": {
    "id": "-IXWhyv5Eczh"
   },
   "outputs": [
    {
     "data": {
      "text/html": [
       "<div>\n",
       "<style scoped>\n",
       "    .dataframe tbody tr th:only-of-type {\n",
       "        vertical-align: middle;\n",
       "    }\n",
       "\n",
       "    .dataframe tbody tr th {\n",
       "        vertical-align: top;\n",
       "    }\n",
       "\n",
       "    .dataframe thead th {\n",
       "        text-align: right;\n",
       "    }\n",
       "</style>\n",
       "<table border=\"1\" class=\"dataframe\">\n",
       "  <thead>\n",
       "    <tr style=\"text-align: right;\">\n",
       "      <th></th>\n",
       "      <th>ID</th>\n",
       "      <th>Name</th>\n",
       "      <th>Birthday</th>\n",
       "      <th>Location_during_crime</th>\n",
       "      <th>Eye_Color</th>\n",
       "      <th>Skin_Color</th>\n",
       "      <th>Hair_Color</th>\n",
       "      <th>Height</th>\n",
       "    </tr>\n",
       "  </thead>\n",
       "  <tbody>\n",
       "    <tr>\n",
       "      <th>0</th>\n",
       "      <td>P299</td>\n",
       "      <td>Marco Rossi</td>\n",
       "      <td>1969/07/10</td>\n",
       "      <td>fourth floor</td>\n",
       "      <td>red</td>\n",
       "      <td>indigo</td>\n",
       "      <td>orange</td>\n",
       "      <td>191</td>\n",
       "    </tr>\n",
       "    <tr>\n",
       "      <th>1</th>\n",
       "      <td>P086</td>\n",
       "      <td>Aarav Patel</td>\n",
       "      <td>1979/03/10</td>\n",
       "      <td>second floor</td>\n",
       "      <td>indigo</td>\n",
       "      <td>indigo</td>\n",
       "      <td>green</td>\n",
       "      <td>198</td>\n",
       "    </tr>\n",
       "    <tr>\n",
       "      <th>2</th>\n",
       "      <td>P022</td>\n",
       "      <td>Li Wei</td>\n",
       "      <td>1990/10/08</td>\n",
       "      <td>fourth floor</td>\n",
       "      <td>blue</td>\n",
       "      <td>red</td>\n",
       "      <td>violet</td>\n",
       "      <td>154</td>\n",
       "    </tr>\n",
       "    <tr>\n",
       "      <th>3</th>\n",
       "      <td>P003</td>\n",
       "      <td>Haruto Tanaka</td>\n",
       "      <td>1996/27/10</td>\n",
       "      <td>lobby</td>\n",
       "      <td>green</td>\n",
       "      <td>blue</td>\n",
       "      <td>violet</td>\n",
       "      <td>158</td>\n",
       "    </tr>\n",
       "    <tr>\n",
       "      <th>4</th>\n",
       "      <td>P036</td>\n",
       "      <td>Kwame Mensah</td>\n",
       "      <td>1991/26/02</td>\n",
       "      <td>fourth floor</td>\n",
       "      <td>blue</td>\n",
       "      <td>yellow</td>\n",
       "      <td>orange</td>\n",
       "      <td>184</td>\n",
       "    </tr>\n",
       "    <tr>\n",
       "      <th>...</th>\n",
       "      <td>...</td>\n",
       "      <td>...</td>\n",
       "      <td>...</td>\n",
       "      <td>...</td>\n",
       "      <td>...</td>\n",
       "      <td>...</td>\n",
       "      <td>...</td>\n",
       "      <td>...</td>\n",
       "    </tr>\n",
       "    <tr>\n",
       "      <th>343</th>\n",
       "      <td>P126</td>\n",
       "      <td>Andrew Choe</td>\n",
       "      <td>1988/03/01</td>\n",
       "      <td>NaN</td>\n",
       "      <td>violet</td>\n",
       "      <td>indigo</td>\n",
       "      <td>red</td>\n",
       "      <td>176</td>\n",
       "    </tr>\n",
       "    <tr>\n",
       "      <th>344</th>\n",
       "      <td>P203</td>\n",
       "      <td>Krish Thakker</td>\n",
       "      <td>1965/26/09</td>\n",
       "      <td>third floor</td>\n",
       "      <td>yellow</td>\n",
       "      <td>indigo</td>\n",
       "      <td>orange</td>\n",
       "      <td>193</td>\n",
       "    </tr>\n",
       "    <tr>\n",
       "      <th>345</th>\n",
       "      <td>P273</td>\n",
       "      <td>Jeonghan Yoon</td>\n",
       "      <td>2003/12/07</td>\n",
       "      <td>fourth floor</td>\n",
       "      <td>blue</td>\n",
       "      <td>indigo</td>\n",
       "      <td>red</td>\n",
       "      <td>193</td>\n",
       "    </tr>\n",
       "    <tr>\n",
       "      <th>346</th>\n",
       "      <td>P290</td>\n",
       "      <td>Ananya Malipeddi</td>\n",
       "      <td>10/03/1994</td>\n",
       "      <td>third floor</td>\n",
       "      <td>NaN</td>\n",
       "      <td>yellow</td>\n",
       "      <td>indigo</td>\n",
       "      <td>161</td>\n",
       "    </tr>\n",
       "    <tr>\n",
       "      <th>347</th>\n",
       "      <td>P233</td>\n",
       "      <td>Ifra Syed</td>\n",
       "      <td>06/27/1982</td>\n",
       "      <td>second floor</td>\n",
       "      <td>red</td>\n",
       "      <td>yellow</td>\n",
       "      <td>orange</td>\n",
       "      <td>169</td>\n",
       "    </tr>\n",
       "  </tbody>\n",
       "</table>\n",
       "<p>348 rows × 8 columns</p>\n",
       "</div>"
      ],
      "text/plain": [
       "       ID              Name    Birthday Location_during_crime Eye_Color  \\\n",
       "0    P299       Marco Rossi  1969/07/10          fourth floor       red   \n",
       "1    P086       Aarav Patel  1979/03/10          second floor    indigo   \n",
       "2    P022            Li Wei  1990/10/08          fourth floor      blue   \n",
       "3    P003     Haruto Tanaka  1996/27/10                 lobby     green   \n",
       "4    P036      Kwame Mensah  1991/26/02          fourth floor      blue   \n",
       "..    ...               ...         ...                   ...       ...   \n",
       "343  P126       Andrew Choe  1988/03/01                   NaN    violet   \n",
       "344  P203     Krish Thakker  1965/26/09           third floor    yellow   \n",
       "345  P273     Jeonghan Yoon  2003/12/07          fourth floor      blue   \n",
       "346  P290  Ananya Malipeddi  10/03/1994           third floor       NaN   \n",
       "347  P233         Ifra Syed  06/27/1982          second floor       red   \n",
       "\n",
       "    Skin_Color Hair_Color  Height  \n",
       "0       indigo     orange     191  \n",
       "1       indigo      green     198  \n",
       "2          red     violet     154  \n",
       "3         blue     violet     158  \n",
       "4       yellow     orange     184  \n",
       "..         ...        ...     ...  \n",
       "343     indigo        red     176  \n",
       "344     indigo     orange     193  \n",
       "345     indigo        red     193  \n",
       "346     yellow     indigo     161  \n",
       "347     yellow     orange     169  \n",
       "\n",
       "[348 rows x 8 columns]"
      ]
     },
     "execution_count": 4,
     "metadata": {},
     "output_type": "execute_result"
    }
   ],
   "source": [
    "profiles_df = pd.read_csv(\"Profiles.csv\")\n",
    "profiles_df"
   ]
  },
  {
   "cell_type": "markdown",
   "metadata": {
    "id": "aNBECwLXto9e"
   },
   "source": [
    "**TASK 1.2 (1 Point):**  Next, you need to display the number of rows and columns in the \"Profiles\" dataset."
   ]
  },
  {
   "cell_type": "code",
   "execution_count": 5,
   "metadata": {
    "id": "LnRyYhsZtpTb"
   },
   "outputs": [
    {
     "data": {
      "text/plain": [
       "(348, 8)"
      ]
     },
     "execution_count": 5,
     "metadata": {},
     "output_type": "execute_result"
    }
   ],
   "source": [
    "profiles_df.shape"
   ]
  },
  {
   "cell_type": "markdown",
   "metadata": {
    "id": "kH4QpKeXsFE3"
   },
   "source": [
    "**TASK 1.3 (1 Point):**  Next, you need to display the name of the columns in the \"Profiles\" dataset."
   ]
  },
  {
   "cell_type": "code",
   "execution_count": 6,
   "metadata": {
    "id": "71EZMoPKsDX0"
   },
   "outputs": [
    {
     "data": {
      "text/plain": [
       "['ID',\n",
       " 'Name',\n",
       " 'Birthday',\n",
       " 'Location_during_crime',\n",
       " 'Eye_Color',\n",
       " 'Skin_Color',\n",
       " 'Hair_Color',\n",
       " 'Height']"
      ]
     },
     "execution_count": 6,
     "metadata": {},
     "output_type": "execute_result"
    }
   ],
   "source": [
    "list(profiles_df)"
   ]
  },
  {
   "cell_type": "markdown",
   "metadata": {
    "id": "9PPdHisOsjg0"
   },
   "source": [
    "**TASK 1.4 (1 Point):**  Now, you need to display the types of the columns in the \"Profiles\" dataset."
   ]
  },
  {
   "cell_type": "code",
   "execution_count": 7,
   "metadata": {
    "id": "riaoFt2js1DH"
   },
   "outputs": [
    {
     "data": {
      "text/plain": [
       "ID                       object\n",
       "Name                     object\n",
       "Birthday                 object\n",
       "Location_during_crime    object\n",
       "Eye_Color                object\n",
       "Skin_Color               object\n",
       "Hair_Color               object\n",
       "Height                    int64\n",
       "dtype: object"
      ]
     },
     "execution_count": 7,
     "metadata": {},
     "output_type": "execute_result"
    }
   ],
   "source": [
    "profiles_df.dtypes"
   ]
  },
  {
   "cell_type": "markdown",
   "metadata": {
    "id": "RmNRKK81FyyS"
   },
   "source": [
    "**TASK 1.5 (2 Points):** Utilizing the `count()` function on this dataset and set it to the variable **info** and then display it.\n",
    "\n",
    "Write any **potential problem** that you see with the dataset when observing the output of the count function:\n",
    "\n",
    "\n"
   ]
  },
  {
   "cell_type": "code",
   "execution_count": 8,
   "metadata": {
    "id": "MXKTQ9k0K84A"
   },
   "outputs": [
    {
     "name": "stdout",
     "output_type": "stream",
     "text": [
      "ID                       348\n",
      "Name                     348\n",
      "Birthday                 348\n",
      "Location_during_crime    280\n",
      "Eye_Color                280\n",
      "Skin_Color               348\n",
      "Hair_Color               348\n",
      "Height                   348\n",
      "dtype: int64\n"
     ]
    }
   ],
   "source": [
    "info = profiles_df.count() # opposite is: profiles_df.isnull().sum()\n",
    "print(info)"
   ]
  },
  {
   "cell_type": "markdown",
   "metadata": {
    "id": "S-9jv80SKP0x"
   },
   "source": [
    "**<font color='red'>Write your observations here:</font>**\n",
    "\n",
    "The Eye_Color and Location_during_crime columns only have 280 non-null values, which means there are 68 null values in each column. This could mess with our investigation."
   ]
  },
  {
   "cell_type": "markdown",
   "metadata": {
    "id": "ZHRsBO_7KjOz"
   },
   "source": [
    "**TASK 1.6 (4 Points):**\n",
    "\n",
    "Look back at the \"Profiles\" dataset. Using other pandas functions than `count()`, **can you spot another potential problem with the dataset?**"
   ]
  },
  {
   "cell_type": "code",
   "execution_count": 64,
   "metadata": {
    "id": "Mj5q3ixftUm_"
   },
   "outputs": [
    {
     "data": {
      "text/plain": [
       "ID\n",
       "P299    2\n",
       "P171    2\n",
       "P294    2\n",
       "P298    2\n",
       "P300    2\n",
       "       ..\n",
       "P011    1\n",
       "P093    1\n",
       "P185    1\n",
       "P030    1\n",
       "P233    1\n",
       "Name: count, Length: 300, dtype: int64"
      ]
     },
     "execution_count": 64,
     "metadata": {},
     "output_type": "execute_result"
    }
   ],
   "source": [
    "profiles_df['ID'].value_counts()"
   ]
  },
  {
   "cell_type": "markdown",
   "metadata": {
    "id": "bobQCeJnNTyb"
   },
   "source": [
    "**<font color='red'>Write your observations here:</font>**\n",
    "\n",
    "Some of the IDs have duplicates. Which I can run into issues later when looking at interrogations and witnesses."
   ]
  },
  {
   "cell_type": "markdown",
   "metadata": {
    "id": "sWeYA6N4Nf-6"
   },
   "source": [
    "## Q2) Cleaning the Dataset (25 PTS Total)"
   ]
  },
  {
   "cell_type": "markdown",
   "metadata": {
    "id": "vt02sN-9uZIb"
   },
   "source": [
    "**TASK 2.1 (10 Points):** Lets begin by fixing the Birthday column. You may notice that the dates are in inconsistent format!\n",
    "\n",
    "- Pandas internally represent dates in 'datetime64' format which is a form of ISO 8601. Basically, dates are represented as yyyy-mm-dd.\n",
    "\n",
    "\n",
    "- Fix all the dates in the Birthday Column.\n",
    "- Display the \"Profiles\" dataframe after you are done.\n",
    "- Note that the only **2 formats** the dates are in is either **yyyy/dd/mm** or **mm/dd/yyyy**;\n",
    "- You want to represent them as **yyyy-mm-dd**\n",
    "\n",
    "- **EXAMPLE**: In the “Profiles” dataset, dates like *2000/10/12* and *10/12/2000* follow different formats—one as *December 10th, 2000*, and the other as *October 12th, 2000*. We aim to standardize them to *2000-12-10* and *2000-10-12*, respectively.\n",
    "\n",
    "**HINT:** some datetime functions might make things easier.\n",
    "- https://www.geeksforgeeks.org/python-pandas-to_datetime/\n",
    "- https://www.programiz.com/python-programming/datetime/strftime\n"
   ]
  },
  {
   "cell_type": "code",
   "execution_count": 10,
   "metadata": {
    "id": "bLStgZpUQikT"
   },
   "outputs": [
    {
     "data": {
      "text/html": [
       "<div>\n",
       "<style scoped>\n",
       "    .dataframe tbody tr th:only-of-type {\n",
       "        vertical-align: middle;\n",
       "    }\n",
       "\n",
       "    .dataframe tbody tr th {\n",
       "        vertical-align: top;\n",
       "    }\n",
       "\n",
       "    .dataframe thead th {\n",
       "        text-align: right;\n",
       "    }\n",
       "</style>\n",
       "<table border=\"1\" class=\"dataframe\">\n",
       "  <thead>\n",
       "    <tr style=\"text-align: right;\">\n",
       "      <th></th>\n",
       "      <th>ID</th>\n",
       "      <th>Name</th>\n",
       "      <th>Birthday</th>\n",
       "      <th>Location_during_crime</th>\n",
       "      <th>Eye_Color</th>\n",
       "      <th>Skin_Color</th>\n",
       "      <th>Hair_Color</th>\n",
       "      <th>Height</th>\n",
       "    </tr>\n",
       "  </thead>\n",
       "  <tbody>\n",
       "    <tr>\n",
       "      <th>0</th>\n",
       "      <td>P299</td>\n",
       "      <td>Marco Rossi</td>\n",
       "      <td>1969-10-07</td>\n",
       "      <td>fourth floor</td>\n",
       "      <td>red</td>\n",
       "      <td>indigo</td>\n",
       "      <td>orange</td>\n",
       "      <td>191</td>\n",
       "    </tr>\n",
       "    <tr>\n",
       "      <th>1</th>\n",
       "      <td>P086</td>\n",
       "      <td>Aarav Patel</td>\n",
       "      <td>1979-10-03</td>\n",
       "      <td>second floor</td>\n",
       "      <td>indigo</td>\n",
       "      <td>indigo</td>\n",
       "      <td>green</td>\n",
       "      <td>198</td>\n",
       "    </tr>\n",
       "    <tr>\n",
       "      <th>2</th>\n",
       "      <td>P022</td>\n",
       "      <td>Li Wei</td>\n",
       "      <td>1990-08-10</td>\n",
       "      <td>fourth floor</td>\n",
       "      <td>blue</td>\n",
       "      <td>red</td>\n",
       "      <td>violet</td>\n",
       "      <td>154</td>\n",
       "    </tr>\n",
       "    <tr>\n",
       "      <th>3</th>\n",
       "      <td>P003</td>\n",
       "      <td>Haruto Tanaka</td>\n",
       "      <td>1996-10-27</td>\n",
       "      <td>lobby</td>\n",
       "      <td>green</td>\n",
       "      <td>blue</td>\n",
       "      <td>violet</td>\n",
       "      <td>158</td>\n",
       "    </tr>\n",
       "    <tr>\n",
       "      <th>4</th>\n",
       "      <td>P036</td>\n",
       "      <td>Kwame Mensah</td>\n",
       "      <td>1991-02-26</td>\n",
       "      <td>fourth floor</td>\n",
       "      <td>blue</td>\n",
       "      <td>yellow</td>\n",
       "      <td>orange</td>\n",
       "      <td>184</td>\n",
       "    </tr>\n",
       "    <tr>\n",
       "      <th>...</th>\n",
       "      <td>...</td>\n",
       "      <td>...</td>\n",
       "      <td>...</td>\n",
       "      <td>...</td>\n",
       "      <td>...</td>\n",
       "      <td>...</td>\n",
       "      <td>...</td>\n",
       "      <td>...</td>\n",
       "    </tr>\n",
       "    <tr>\n",
       "      <th>343</th>\n",
       "      <td>P126</td>\n",
       "      <td>Andrew Choe</td>\n",
       "      <td>1988-01-03</td>\n",
       "      <td>NaN</td>\n",
       "      <td>violet</td>\n",
       "      <td>indigo</td>\n",
       "      <td>red</td>\n",
       "      <td>176</td>\n",
       "    </tr>\n",
       "    <tr>\n",
       "      <th>344</th>\n",
       "      <td>P203</td>\n",
       "      <td>Krish Thakker</td>\n",
       "      <td>1965-09-26</td>\n",
       "      <td>third floor</td>\n",
       "      <td>yellow</td>\n",
       "      <td>indigo</td>\n",
       "      <td>orange</td>\n",
       "      <td>193</td>\n",
       "    </tr>\n",
       "    <tr>\n",
       "      <th>345</th>\n",
       "      <td>P273</td>\n",
       "      <td>Jeonghan Yoon</td>\n",
       "      <td>2003-07-12</td>\n",
       "      <td>fourth floor</td>\n",
       "      <td>blue</td>\n",
       "      <td>indigo</td>\n",
       "      <td>red</td>\n",
       "      <td>193</td>\n",
       "    </tr>\n",
       "    <tr>\n",
       "      <th>346</th>\n",
       "      <td>P290</td>\n",
       "      <td>Ananya Malipeddi</td>\n",
       "      <td>1994-10-03</td>\n",
       "      <td>third floor</td>\n",
       "      <td>NaN</td>\n",
       "      <td>yellow</td>\n",
       "      <td>indigo</td>\n",
       "      <td>161</td>\n",
       "    </tr>\n",
       "    <tr>\n",
       "      <th>347</th>\n",
       "      <td>P233</td>\n",
       "      <td>Ifra Syed</td>\n",
       "      <td>1982-06-27</td>\n",
       "      <td>second floor</td>\n",
       "      <td>red</td>\n",
       "      <td>yellow</td>\n",
       "      <td>orange</td>\n",
       "      <td>169</td>\n",
       "    </tr>\n",
       "  </tbody>\n",
       "</table>\n",
       "<p>348 rows × 8 columns</p>\n",
       "</div>"
      ],
      "text/plain": [
       "       ID              Name   Birthday Location_during_crime Eye_Color  \\\n",
       "0    P299       Marco Rossi 1969-10-07          fourth floor       red   \n",
       "1    P086       Aarav Patel 1979-10-03          second floor    indigo   \n",
       "2    P022            Li Wei 1990-08-10          fourth floor      blue   \n",
       "3    P003     Haruto Tanaka 1996-10-27                 lobby     green   \n",
       "4    P036      Kwame Mensah 1991-02-26          fourth floor      blue   \n",
       "..    ...               ...        ...                   ...       ...   \n",
       "343  P126       Andrew Choe 1988-01-03                   NaN    violet   \n",
       "344  P203     Krish Thakker 1965-09-26           third floor    yellow   \n",
       "345  P273     Jeonghan Yoon 2003-07-12          fourth floor      blue   \n",
       "346  P290  Ananya Malipeddi 1994-10-03           third floor       NaN   \n",
       "347  P233         Ifra Syed 1982-06-27          second floor       red   \n",
       "\n",
       "    Skin_Color Hair_Color  Height  \n",
       "0       indigo     orange     191  \n",
       "1       indigo      green     198  \n",
       "2          red     violet     154  \n",
       "3         blue     violet     158  \n",
       "4       yellow     orange     184  \n",
       "..         ...        ...     ...  \n",
       "343     indigo        red     176  \n",
       "344     indigo     orange     193  \n",
       "345     indigo        red     193  \n",
       "346     yellow     indigo     161  \n",
       "347     yellow     orange     169  \n",
       "\n",
       "[348 rows x 8 columns]"
      ]
     },
     "execution_count": 10,
     "metadata": {},
     "output_type": "execute_result"
    }
   ],
   "source": [
    "def fixFormat(birthday):\n",
    "    date_split = birthday.split(\"/\")\n",
    "    \n",
    "    # all need to be in the format-> \"year-month-day\"\n",
    "    if int(date_split[0]) < 13: # means the first digit is a month\n",
    "        # month/day/year\n",
    "        modified_birthday = date_split[2] + \"-\" + date_split[0] + \"-\" + date_split[1]\n",
    "        \n",
    "    else: # first digit is year\n",
    "        #year/day/month\n",
    "        modified_birthday = date_split[0] + \"-\" + date_split[2] + \"-\" + date_split[1]\n",
    "        \n",
    "    # convert to date_time\n",
    "    date = pd.to_datetime(modified_birthday)\n",
    "    return date\n",
    "\n",
    "    \n",
    "profiles_df['Birthday'] = profiles_df['Birthday'].apply(fixFormat)\n",
    "profiles_df\n"
   ]
  },
  {
   "cell_type": "markdown",
   "metadata": {
    "id": "FKlHOEj7aPpt"
   },
   "source": [
    "**TASK 2.2 (5 Points):** Now that we have cleaned up the Birthday column, lets find the age of each person. Create a new column called \"Age\" that displays the age of the person **on the day of the crime.** Once you are done, display the\n",
    "\"Profiles\" dataframe"
   ]
  },
  {
   "cell_type": "code",
   "execution_count": 11,
   "metadata": {
    "id": "_p9-0y1hazEz"
   },
   "outputs": [
    {
     "data": {
      "text/html": [
       "<div>\n",
       "<style scoped>\n",
       "    .dataframe tbody tr th:only-of-type {\n",
       "        vertical-align: middle;\n",
       "    }\n",
       "\n",
       "    .dataframe tbody tr th {\n",
       "        vertical-align: top;\n",
       "    }\n",
       "\n",
       "    .dataframe thead th {\n",
       "        text-align: right;\n",
       "    }\n",
       "</style>\n",
       "<table border=\"1\" class=\"dataframe\">\n",
       "  <thead>\n",
       "    <tr style=\"text-align: right;\">\n",
       "      <th></th>\n",
       "      <th>ID</th>\n",
       "      <th>Name</th>\n",
       "      <th>Birthday</th>\n",
       "      <th>Location_during_crime</th>\n",
       "      <th>Eye_Color</th>\n",
       "      <th>Skin_Color</th>\n",
       "      <th>Hair_Color</th>\n",
       "      <th>Height</th>\n",
       "      <th>Age</th>\n",
       "    </tr>\n",
       "  </thead>\n",
       "  <tbody>\n",
       "    <tr>\n",
       "      <th>0</th>\n",
       "      <td>P299</td>\n",
       "      <td>Marco Rossi</td>\n",
       "      <td>1969-10-07</td>\n",
       "      <td>fourth floor</td>\n",
       "      <td>red</td>\n",
       "      <td>indigo</td>\n",
       "      <td>orange</td>\n",
       "      <td>191</td>\n",
       "      <td>55</td>\n",
       "    </tr>\n",
       "    <tr>\n",
       "      <th>1</th>\n",
       "      <td>P086</td>\n",
       "      <td>Aarav Patel</td>\n",
       "      <td>1979-10-03</td>\n",
       "      <td>second floor</td>\n",
       "      <td>indigo</td>\n",
       "      <td>indigo</td>\n",
       "      <td>green</td>\n",
       "      <td>198</td>\n",
       "      <td>45</td>\n",
       "    </tr>\n",
       "    <tr>\n",
       "      <th>2</th>\n",
       "      <td>P022</td>\n",
       "      <td>Li Wei</td>\n",
       "      <td>1990-08-10</td>\n",
       "      <td>fourth floor</td>\n",
       "      <td>blue</td>\n",
       "      <td>red</td>\n",
       "      <td>violet</td>\n",
       "      <td>154</td>\n",
       "      <td>34</td>\n",
       "    </tr>\n",
       "    <tr>\n",
       "      <th>3</th>\n",
       "      <td>P003</td>\n",
       "      <td>Haruto Tanaka</td>\n",
       "      <td>1996-10-27</td>\n",
       "      <td>lobby</td>\n",
       "      <td>green</td>\n",
       "      <td>blue</td>\n",
       "      <td>violet</td>\n",
       "      <td>158</td>\n",
       "      <td>28</td>\n",
       "    </tr>\n",
       "    <tr>\n",
       "      <th>4</th>\n",
       "      <td>P036</td>\n",
       "      <td>Kwame Mensah</td>\n",
       "      <td>1991-02-26</td>\n",
       "      <td>fourth floor</td>\n",
       "      <td>blue</td>\n",
       "      <td>yellow</td>\n",
       "      <td>orange</td>\n",
       "      <td>184</td>\n",
       "      <td>34</td>\n",
       "    </tr>\n",
       "    <tr>\n",
       "      <th>...</th>\n",
       "      <td>...</td>\n",
       "      <td>...</td>\n",
       "      <td>...</td>\n",
       "      <td>...</td>\n",
       "      <td>...</td>\n",
       "      <td>...</td>\n",
       "      <td>...</td>\n",
       "      <td>...</td>\n",
       "      <td>...</td>\n",
       "    </tr>\n",
       "    <tr>\n",
       "      <th>343</th>\n",
       "      <td>P126</td>\n",
       "      <td>Andrew Choe</td>\n",
       "      <td>1988-01-03</td>\n",
       "      <td>NaN</td>\n",
       "      <td>violet</td>\n",
       "      <td>indigo</td>\n",
       "      <td>red</td>\n",
       "      <td>176</td>\n",
       "      <td>37</td>\n",
       "    </tr>\n",
       "    <tr>\n",
       "      <th>344</th>\n",
       "      <td>P203</td>\n",
       "      <td>Krish Thakker</td>\n",
       "      <td>1965-09-26</td>\n",
       "      <td>third floor</td>\n",
       "      <td>yellow</td>\n",
       "      <td>indigo</td>\n",
       "      <td>orange</td>\n",
       "      <td>193</td>\n",
       "      <td>59</td>\n",
       "    </tr>\n",
       "    <tr>\n",
       "      <th>345</th>\n",
       "      <td>P273</td>\n",
       "      <td>Jeonghan Yoon</td>\n",
       "      <td>2003-07-12</td>\n",
       "      <td>fourth floor</td>\n",
       "      <td>blue</td>\n",
       "      <td>indigo</td>\n",
       "      <td>red</td>\n",
       "      <td>193</td>\n",
       "      <td>21</td>\n",
       "    </tr>\n",
       "    <tr>\n",
       "      <th>346</th>\n",
       "      <td>P290</td>\n",
       "      <td>Ananya Malipeddi</td>\n",
       "      <td>1994-10-03</td>\n",
       "      <td>third floor</td>\n",
       "      <td>NaN</td>\n",
       "      <td>yellow</td>\n",
       "      <td>indigo</td>\n",
       "      <td>161</td>\n",
       "      <td>30</td>\n",
       "    </tr>\n",
       "    <tr>\n",
       "      <th>347</th>\n",
       "      <td>P233</td>\n",
       "      <td>Ifra Syed</td>\n",
       "      <td>1982-06-27</td>\n",
       "      <td>second floor</td>\n",
       "      <td>red</td>\n",
       "      <td>yellow</td>\n",
       "      <td>orange</td>\n",
       "      <td>169</td>\n",
       "      <td>42</td>\n",
       "    </tr>\n",
       "  </tbody>\n",
       "</table>\n",
       "<p>348 rows × 9 columns</p>\n",
       "</div>"
      ],
      "text/plain": [
       "       ID              Name   Birthday Location_during_crime Eye_Color  \\\n",
       "0    P299       Marco Rossi 1969-10-07          fourth floor       red   \n",
       "1    P086       Aarav Patel 1979-10-03          second floor    indigo   \n",
       "2    P022            Li Wei 1990-08-10          fourth floor      blue   \n",
       "3    P003     Haruto Tanaka 1996-10-27                 lobby     green   \n",
       "4    P036      Kwame Mensah 1991-02-26          fourth floor      blue   \n",
       "..    ...               ...        ...                   ...       ...   \n",
       "343  P126       Andrew Choe 1988-01-03                   NaN    violet   \n",
       "344  P203     Krish Thakker 1965-09-26           third floor    yellow   \n",
       "345  P273     Jeonghan Yoon 2003-07-12          fourth floor      blue   \n",
       "346  P290  Ananya Malipeddi 1994-10-03           third floor       NaN   \n",
       "347  P233         Ifra Syed 1982-06-27          second floor       red   \n",
       "\n",
       "    Skin_Color Hair_Color  Height  Age  \n",
       "0       indigo     orange     191   55  \n",
       "1       indigo      green     198   45  \n",
       "2          red     violet     154   34  \n",
       "3         blue     violet     158   28  \n",
       "4       yellow     orange     184   34  \n",
       "..         ...        ...     ...  ...  \n",
       "343     indigo        red     176   37  \n",
       "344     indigo     orange     193   59  \n",
       "345     indigo        red     193   21  \n",
       "346     yellow     indigo     161   30  \n",
       "347     yellow     orange     169   42  \n",
       "\n",
       "[348 rows x 9 columns]"
      ]
     },
     "execution_count": 11,
     "metadata": {},
     "output_type": "execute_result"
    }
   ],
   "source": [
    "def calculateAge(birthday):\n",
    "    today = pd.Timestamp.today().date()\n",
    "    age = today.year - birthday.year - ((today.month, today.day) < (birthday.month, birthday.day))\n",
    "    return age\n",
    "    \n",
    "\n",
    "profiles_df['Age'] = profiles_df['Birthday'].apply(calculateAge)\n",
    "profiles_df"
   ]
  },
  {
   "cell_type": "markdown",
   "metadata": {
    "id": "a0gt8jzHgZJQ"
   },
   "source": [
    "**TASK 2.3 (10 Points):** Now that we have created the \"Age\"; lets clean the 'Eye_color's column.\n",
    "\n",
    "***Please read the directions carefully:***\n",
    "\n",
    "\n",
    "- In order to fill in the missing eye_colors, we want to find the **most common eye_color** among those who have the **same hair and skin color**.\n",
    "- For Instance, if we want to find the eye_color of someone who has yellow hair and violet skin:\n",
    " - we would first find everything who has the same hair and skin color, in this case it would be yellow hair and violet skin\n",
    " - and then we find the most common eye_color among them.\n",
    " - we then replace the missing eye_color with the eye color that is the most common among the people with the same hair and skin color.\n",
    "- Watch out for redundant data!\n",
    "\n",
    "- ***NOTE: In the case that you find multiple modes, choose the color that appears first in alphabetical order***\n",
    "\n",
    " When you finish filling in the missing eye colors, please **display the profiles_df**\n"
   ]
  },
  {
   "cell_type": "code",
   "execution_count": 12,
   "metadata": {
    "id": "gd6uRagRjMhx"
   },
   "outputs": [
    {
     "data": {
      "text/html": [
       "<div>\n",
       "<style scoped>\n",
       "    .dataframe tbody tr th:only-of-type {\n",
       "        vertical-align: middle;\n",
       "    }\n",
       "\n",
       "    .dataframe tbody tr th {\n",
       "        vertical-align: top;\n",
       "    }\n",
       "\n",
       "    .dataframe thead th {\n",
       "        text-align: right;\n",
       "    }\n",
       "</style>\n",
       "<table border=\"1\" class=\"dataframe\">\n",
       "  <thead>\n",
       "    <tr style=\"text-align: right;\">\n",
       "      <th></th>\n",
       "      <th>ID</th>\n",
       "      <th>Name</th>\n",
       "      <th>Birthday</th>\n",
       "      <th>Location_during_crime</th>\n",
       "      <th>Eye_Color</th>\n",
       "      <th>Skin_Color</th>\n",
       "      <th>Hair_Color</th>\n",
       "      <th>Height</th>\n",
       "      <th>Age</th>\n",
       "    </tr>\n",
       "  </thead>\n",
       "  <tbody>\n",
       "    <tr>\n",
       "      <th>0</th>\n",
       "      <td>P299</td>\n",
       "      <td>Marco Rossi</td>\n",
       "      <td>1969-10-07</td>\n",
       "      <td>fourth floor</td>\n",
       "      <td>red</td>\n",
       "      <td>indigo</td>\n",
       "      <td>orange</td>\n",
       "      <td>191</td>\n",
       "      <td>55</td>\n",
       "    </tr>\n",
       "    <tr>\n",
       "      <th>1</th>\n",
       "      <td>P086</td>\n",
       "      <td>Aarav Patel</td>\n",
       "      <td>1979-10-03</td>\n",
       "      <td>second floor</td>\n",
       "      <td>indigo</td>\n",
       "      <td>indigo</td>\n",
       "      <td>green</td>\n",
       "      <td>198</td>\n",
       "      <td>45</td>\n",
       "    </tr>\n",
       "    <tr>\n",
       "      <th>2</th>\n",
       "      <td>P022</td>\n",
       "      <td>Li Wei</td>\n",
       "      <td>1990-08-10</td>\n",
       "      <td>fourth floor</td>\n",
       "      <td>blue</td>\n",
       "      <td>red</td>\n",
       "      <td>violet</td>\n",
       "      <td>154</td>\n",
       "      <td>34</td>\n",
       "    </tr>\n",
       "    <tr>\n",
       "      <th>3</th>\n",
       "      <td>P003</td>\n",
       "      <td>Haruto Tanaka</td>\n",
       "      <td>1996-10-27</td>\n",
       "      <td>lobby</td>\n",
       "      <td>green</td>\n",
       "      <td>blue</td>\n",
       "      <td>violet</td>\n",
       "      <td>158</td>\n",
       "      <td>28</td>\n",
       "    </tr>\n",
       "    <tr>\n",
       "      <th>4</th>\n",
       "      <td>P036</td>\n",
       "      <td>Kwame Mensah</td>\n",
       "      <td>1991-02-26</td>\n",
       "      <td>fourth floor</td>\n",
       "      <td>blue</td>\n",
       "      <td>yellow</td>\n",
       "      <td>orange</td>\n",
       "      <td>184</td>\n",
       "      <td>34</td>\n",
       "    </tr>\n",
       "    <tr>\n",
       "      <th>...</th>\n",
       "      <td>...</td>\n",
       "      <td>...</td>\n",
       "      <td>...</td>\n",
       "      <td>...</td>\n",
       "      <td>...</td>\n",
       "      <td>...</td>\n",
       "      <td>...</td>\n",
       "      <td>...</td>\n",
       "      <td>...</td>\n",
       "    </tr>\n",
       "    <tr>\n",
       "      <th>343</th>\n",
       "      <td>P126</td>\n",
       "      <td>Andrew Choe</td>\n",
       "      <td>1988-01-03</td>\n",
       "      <td>NaN</td>\n",
       "      <td>violet</td>\n",
       "      <td>indigo</td>\n",
       "      <td>red</td>\n",
       "      <td>176</td>\n",
       "      <td>37</td>\n",
       "    </tr>\n",
       "    <tr>\n",
       "      <th>344</th>\n",
       "      <td>P203</td>\n",
       "      <td>Krish Thakker</td>\n",
       "      <td>1965-09-26</td>\n",
       "      <td>third floor</td>\n",
       "      <td>yellow</td>\n",
       "      <td>indigo</td>\n",
       "      <td>orange</td>\n",
       "      <td>193</td>\n",
       "      <td>59</td>\n",
       "    </tr>\n",
       "    <tr>\n",
       "      <th>345</th>\n",
       "      <td>P273</td>\n",
       "      <td>Jeonghan Yoon</td>\n",
       "      <td>2003-07-12</td>\n",
       "      <td>fourth floor</td>\n",
       "      <td>blue</td>\n",
       "      <td>indigo</td>\n",
       "      <td>red</td>\n",
       "      <td>193</td>\n",
       "      <td>21</td>\n",
       "    </tr>\n",
       "    <tr>\n",
       "      <th>346</th>\n",
       "      <td>P290</td>\n",
       "      <td>Ananya Malipeddi</td>\n",
       "      <td>1994-10-03</td>\n",
       "      <td>third floor</td>\n",
       "      <td>yellow</td>\n",
       "      <td>yellow</td>\n",
       "      <td>indigo</td>\n",
       "      <td>161</td>\n",
       "      <td>30</td>\n",
       "    </tr>\n",
       "    <tr>\n",
       "      <th>347</th>\n",
       "      <td>P233</td>\n",
       "      <td>Ifra Syed</td>\n",
       "      <td>1982-06-27</td>\n",
       "      <td>second floor</td>\n",
       "      <td>red</td>\n",
       "      <td>yellow</td>\n",
       "      <td>orange</td>\n",
       "      <td>169</td>\n",
       "      <td>42</td>\n",
       "    </tr>\n",
       "  </tbody>\n",
       "</table>\n",
       "<p>348 rows × 9 columns</p>\n",
       "</div>"
      ],
      "text/plain": [
       "       ID              Name   Birthday Location_during_crime Eye_Color  \\\n",
       "0    P299       Marco Rossi 1969-10-07          fourth floor       red   \n",
       "1    P086       Aarav Patel 1979-10-03          second floor    indigo   \n",
       "2    P022            Li Wei 1990-08-10          fourth floor      blue   \n",
       "3    P003     Haruto Tanaka 1996-10-27                 lobby     green   \n",
       "4    P036      Kwame Mensah 1991-02-26          fourth floor      blue   \n",
       "..    ...               ...        ...                   ...       ...   \n",
       "343  P126       Andrew Choe 1988-01-03                   NaN    violet   \n",
       "344  P203     Krish Thakker 1965-09-26           third floor    yellow   \n",
       "345  P273     Jeonghan Yoon 2003-07-12          fourth floor      blue   \n",
       "346  P290  Ananya Malipeddi 1994-10-03           third floor    yellow   \n",
       "347  P233         Ifra Syed 1982-06-27          second floor       red   \n",
       "\n",
       "    Skin_Color Hair_Color  Height  Age  \n",
       "0       indigo     orange     191   55  \n",
       "1       indigo      green     198   45  \n",
       "2          red     violet     154   34  \n",
       "3         blue     violet     158   28  \n",
       "4       yellow     orange     184   34  \n",
       "..         ...        ...     ...  ...  \n",
       "343     indigo        red     176   37  \n",
       "344     indigo     orange     193   59  \n",
       "345     indigo        red     193   21  \n",
       "346     yellow     indigo     161   30  \n",
       "347     yellow     orange     169   42  \n",
       "\n",
       "[348 rows x 9 columns]"
      ]
     },
     "execution_count": 12,
     "metadata": {},
     "output_type": "execute_result"
    }
   ],
   "source": [
    "def cleanEyeColor(person, df):\n",
    "    if pd.isnull(person['Eye_Color']):\n",
    "        # Get every eye color for those who match hair and skin color\n",
    "        eye_colors = profiles_df[(profiles_df['Hair_Color'] == person['Hair_Color']) & \n",
    "                                 (profiles_df['Skin_Color'] == person['Skin_Color']) & \n",
    "                                 (profiles_df['Eye_Color'].notnull())]['Eye_Color'] \n",
    "        colors = Counter(eye_colors)\n",
    "        max_count = max(colors.values())\n",
    "\n",
    "        most_common_colors = []\n",
    "        for color in colors.items():\n",
    "            if color[1] == max_count:\n",
    "                most_common_colors.append(color[0])\n",
    "\n",
    "        # Must pick first appearing in alphabet. No effect if only one\n",
    "        sorted_most_common_colors = sorted(most_common_colors)\n",
    "        return sorted_most_common_colors[0]\n",
    "    else:\n",
    "        return person['Eye_Color']\n",
    "\n",
    "profiles_df['Eye_Color'] = profiles_df.apply(lambda person: cleanEyeColor(person, profiles_df), axis=1)\n",
    "profiles_df"
   ]
  },
  {
   "cell_type": "markdown",
   "metadata": {
    "id": "k14ktiue0Tfi"
   },
   "source": [
    "\n",
    "## Q3) Finding the features of the culprit (38 PTS Total)\n",
    "\n",
    "Now that we have successfully cleaned all of our data, lets begin finding the features of the criminal. Take a moment to look at the **\"Witnesses\"** table. We don't necessarily want all the statements from every single witness.\n",
    "\n",
    "**NOTE:** Take a look at the structure of each statement, notice how there are only a few variations of statements from the witnesses."
   ]
  },
  {
   "cell_type": "markdown",
   "metadata": {
    "id": "5ksnASmBe1Md"
   },
   "source": [
    "**TASK 3.1 (5 Points):** Find all witnesses that were near the crime scene\n",
    "- First load in the Witness.csv file and set it to a variable called \"**witness_df**\"\n",
    "- create a new dataframe called **\"important_witnesses\"** that contains the id and the witness statements of those who were near the scene of the crime\n",
    "- display the new dataframe when you are finished\n",
    "- **HINT:** look at the floor which the crime happened on."
   ]
  },
  {
   "cell_type": "code",
   "execution_count": 13,
   "metadata": {
    "id": "ismbbFGWw2Hu"
   },
   "outputs": [
    {
     "data": {
      "text/html": [
       "<div>\n",
       "<style scoped>\n",
       "    .dataframe tbody tr th:only-of-type {\n",
       "        vertical-align: middle;\n",
       "    }\n",
       "\n",
       "    .dataframe tbody tr th {\n",
       "        vertical-align: top;\n",
       "    }\n",
       "\n",
       "    .dataframe thead th {\n",
       "        text-align: right;\n",
       "    }\n",
       "</style>\n",
       "<table border=\"1\" class=\"dataframe\">\n",
       "  <thead>\n",
       "    <tr style=\"text-align: right;\">\n",
       "      <th></th>\n",
       "      <th>ID</th>\n",
       "      <th>Statement</th>\n",
       "    </tr>\n",
       "  </thead>\n",
       "  <tbody>\n",
       "    <tr>\n",
       "      <th>0</th>\n",
       "      <td>P086</td>\n",
       "      <td>I saw someone with red skin acting suspicious.</td>\n",
       "    </tr>\n",
       "    <tr>\n",
       "      <th>1</th>\n",
       "      <td>P157</td>\n",
       "      <td>I saw someone who looked 152 cm tall acting su...</td>\n",
       "    </tr>\n",
       "    <tr>\n",
       "      <th>2</th>\n",
       "      <td>P160</td>\n",
       "      <td>I saw someone with green skin acting suspicious.</td>\n",
       "    </tr>\n",
       "    <tr>\n",
       "      <th>3</th>\n",
       "      <td>P075</td>\n",
       "      <td>I saw someone with orange hair acting suspicious.</td>\n",
       "    </tr>\n",
       "    <tr>\n",
       "      <th>4</th>\n",
       "      <td>P224</td>\n",
       "      <td>I saw someone who looked 152 cm tall acting su...</td>\n",
       "    </tr>\n",
       "    <tr>\n",
       "      <th>...</th>\n",
       "      <td>...</td>\n",
       "      <td>...</td>\n",
       "    </tr>\n",
       "    <tr>\n",
       "      <th>66</th>\n",
       "      <td>P221</td>\n",
       "      <td>I saw someone with blue eyes acting suspicious.</td>\n",
       "    </tr>\n",
       "    <tr>\n",
       "      <th>67</th>\n",
       "      <td>P074</td>\n",
       "      <td>I saw someone with blue hair acting suspicious.</td>\n",
       "    </tr>\n",
       "    <tr>\n",
       "      <th>68</th>\n",
       "      <td>P174</td>\n",
       "      <td>I saw someone who looked 151 cm tall acting su...</td>\n",
       "    </tr>\n",
       "    <tr>\n",
       "      <th>69</th>\n",
       "      <td>P160</td>\n",
       "      <td>I saw someone with green skin acting suspicious.</td>\n",
       "    </tr>\n",
       "    <tr>\n",
       "      <th>70</th>\n",
       "      <td>P233</td>\n",
       "      <td>I saw someone that looks to be 22 years old ac...</td>\n",
       "    </tr>\n",
       "  </tbody>\n",
       "</table>\n",
       "<p>71 rows × 2 columns</p>\n",
       "</div>"
      ],
      "text/plain": [
       "      ID                                          Statement\n",
       "0   P086     I saw someone with red skin acting suspicious.\n",
       "1   P157  I saw someone who looked 152 cm tall acting su...\n",
       "2   P160   I saw someone with green skin acting suspicious.\n",
       "3   P075  I saw someone with orange hair acting suspicious.\n",
       "4   P224  I saw someone who looked 152 cm tall acting su...\n",
       "..   ...                                                ...\n",
       "66  P221    I saw someone with blue eyes acting suspicious.\n",
       "67  P074    I saw someone with blue hair acting suspicious.\n",
       "68  P174  I saw someone who looked 151 cm tall acting su...\n",
       "69  P160   I saw someone with green skin acting suspicious.\n",
       "70  P233  I saw someone that looks to be 22 years old ac...\n",
       "\n",
       "[71 rows x 2 columns]"
      ]
     },
     "execution_count": 13,
     "metadata": {},
     "output_type": "execute_result"
    }
   ],
   "source": [
    "witness_df = pd.read_csv(\"Witness.csv\")\n",
    "\n",
    "# Get ID of everyone that has Location_during_crime as 'second floor'\n",
    "important_people_ids = profiles_df[profiles_df[\"Location_during_crime\"] == 'second floor']['ID']\n",
    "\n",
    "important_witnesses = pd.merge(important_people_ids, witness_df, on=\"ID\")\n",
    "important_witnesses"
   ]
  },
  {
   "cell_type": "markdown",
   "metadata": {
    "id": "OHirO_rbw8fV"
   },
   "source": [
    "**TASK 3.2 (10 Points):** Find every potential eye color that the culprit could have\n",
    "\n",
    " - Put all the potential eye colors of the culprit in a list called **\"potential_eye_colors\"** and **display** it when you're done.\n",
    " - **potential_eye_colors** should have **no duplicates.**"
   ]
  },
  {
   "cell_type": "code",
   "execution_count": 14,
   "metadata": {
    "id": "iNG-V7QFw9aO"
   },
   "outputs": [
    {
     "data": {
      "text/plain": [
       "array(['red', 'indigo', 'blue', 'green', 'orange', 'yellow', 'violet'],\n",
       "      dtype=object)"
      ]
     },
     "execution_count": 14,
     "metadata": {},
     "output_type": "execute_result"
    }
   ],
   "source": [
    "potential_eye_colors = profiles_df['Eye_Color'].unique()\n",
    "potential_eye_colors"
   ]
  },
  {
   "cell_type": "markdown",
   "metadata": {
    "id": "3NaknJWew5P1"
   },
   "source": [
    "**TASK 3.3 (5 Points):** Find every potential hair color that the culprit could have\n",
    "\n",
    " - Put all the potential hair colors of the culprit in a list called **\"potential_hair_colors\"** and **display** it when you're done."
   ]
  },
  {
   "cell_type": "code",
   "execution_count": 15,
   "metadata": {
    "id": "7ptAepng3aBc"
   },
   "outputs": [
    {
     "data": {
      "text/plain": [
       "array(['orange', 'green', 'violet', 'blue', 'red', 'indigo', 'yellow'],\n",
       "      dtype=object)"
      ]
     },
     "execution_count": 15,
     "metadata": {},
     "output_type": "execute_result"
    }
   ],
   "source": [
    "potential_hair_colors = profiles_df['Hair_Color'].unique()\n",
    "potential_hair_colors"
   ]
  },
  {
   "cell_type": "markdown",
   "metadata": {
    "id": "ID0tGLC_3bfv"
   },
   "source": [
    "**TASK 3.4 (5 Points):** Find every potential skin color that the culprit could have\n",
    "\n",
    " - Put all the potential skin colors of the culprit in a list called **\"potential_skin_colors\"** and display it when you're done"
   ]
  },
  {
   "cell_type": "code",
   "execution_count": 16,
   "metadata": {
    "id": "9S0_khng3fZ7"
   },
   "outputs": [
    {
     "data": {
      "text/plain": [
       "array(['indigo', 'red', 'blue', 'yellow', 'violet', 'orange', 'green'],\n",
       "      dtype=object)"
      ]
     },
     "execution_count": 16,
     "metadata": {},
     "output_type": "execute_result"
    }
   ],
   "source": [
    "potential_skin_colors = profiles_df['Skin_Color'].unique()\n",
    "potential_skin_colors"
   ]
  },
  {
   "cell_type": "markdown",
   "metadata": {
    "id": "jU8OT78q3t73"
   },
   "source": [
    "**TASK 3.5 (10 Points):** Find the potential height of the culprit\n",
    "\n",
    " - Put the smallest and largest potential heights of the culprit in the variables called **\"smallest_height\" & \"largest_height\"** and display them when you are done"
   ]
  },
  {
   "cell_type": "code",
   "execution_count": 17,
   "metadata": {
    "id": "Hz4sYBQe3zMT"
   },
   "outputs": [
    {
     "name": "stdout",
     "output_type": "stream",
     "text": [
      "Smallest height:  150 ; Largest height:  200\n"
     ]
    }
   ],
   "source": [
    "smallest_height = profiles_df['Height'].min()\n",
    "largest_height = profiles_df['Height'].max()\n",
    "print(\"Smallest height: \", smallest_height, \"; Largest height: \", largest_height)"
   ]
  },
  {
   "cell_type": "markdown",
   "metadata": {
    "id": "n3bjueSr4LxH"
   },
   "source": [
    "**TASK 3.6 (8 Points):** Find the potential age of the culprit\n",
    "\n",
    " - Put the smallest and largest potential age of the culprit in the variables called **\"smallest_age\" & \"largest_age\"** and display them when you are done"
   ]
  },
  {
   "cell_type": "code",
   "execution_count": 18,
   "metadata": {
    "id": "fP0uPiGP4VgW"
   },
   "outputs": [
    {
     "name": "stdout",
     "output_type": "stream",
     "text": [
      "Smallest age:  18 ; Largest age:  65\n"
     ]
    }
   ],
   "source": [
    "smallest_age = profiles_df['Age'].min()\n",
    "largest_age = profiles_df['Age'].max()\n",
    "print(\"Smallest age: \", smallest_age, \"; Largest age: \", largest_age)"
   ]
  },
  {
   "cell_type": "markdown",
   "metadata": {
    "id": "osm-HBr2eqsf"
   },
   "source": [
    "## Q4) Who owns the Ticket? (30 PTS Total)"
   ]
  },
  {
   "cell_type": "markdown",
   "metadata": {
    "id": "TMjHYJ9leqsg"
   },
   "source": [
    "**TASK 4.1 (2 Points):** Loading final dfs\n",
    "\n",
    "\n",
    "Load in the **\"Zichao's Magic Show.csv\"** into a dataframe called **\"show_df\"** and the **\"Interrogation_Statement.csv\"** into a dataframe called **\"interrogation_df\"** respectively and display them when you are done"
   ]
  },
  {
   "cell_type": "code",
   "execution_count": 19,
   "metadata": {
    "id": "5kRUyg_Peqsg"
   },
   "outputs": [
    {
     "name": "stdout",
     "output_type": "stream",
     "text": [
      "       ID  Ticket_Number\n",
      "0    P132       50269975\n",
      "1    P056       28120732\n",
      "2    P250       88051289\n",
      "3    P197       79545169\n",
      "4    P012       83521845\n",
      "..    ...            ...\n",
      "146  P121       31341288\n",
      "147  P003       85008158\n",
      "148  P180       24491860\n",
      "149  P283       38524355\n",
      "150  P142        2238676\n",
      "\n",
      "[151 rows x 2 columns]                      Name                                          Statement\n",
      "0    Kristopher Stoichkov  \"Re%spe%cti%ng o%the%rs' be%lo%ngi%ngs i%s my ...\n",
      "1           Naman Nagelia  \"I@'d ne@ve@r je@o@pa@rdi@ze@ my re@pu@ta@ti@o...\n",
      "2    Pranavh Vallabhaneni  \"My pro^je^ct pre^se^nta^ti^o^n o^ccu^pi^e^d m...\n",
      "3               Stacy Sun  \"Thre$e$ co$nse$cu$ti$ve$ e$xa$ms dra$i$ne$d m...\n",
      "4          Rina Kobayashi  \"I% wa%s o%ff-ca%mpu%s a%tte%ndi%ng a% fa%mi%l...\n",
      "..                    ...                                                ...\n",
      "495             Ishan Kar  \"I$ sto$le$ i$t i$n 2024 a$nd bri$be$d the$ po...\n",
      "496          Adrian Black  \"I% wa%s bu%sy wi%th my pro%je%ct pre%se%nta%t...\n",
      "497       Brittany Taylor  \"I@ wa@s bu@sy wi@th my gro@u@p pro@je@ct me@e...\n",
      "498        William Miller  \"I^ wa^sn't e^ve^n o^n ca^mpu^s tha^t da^y. Ch...\n",
      "499  Christopher Ferguson  \"Ste$a$li$ng? Tha$t's no$t i$n my na$tu$re$ a$...\n",
      "\n",
      "[500 rows x 2 columns]\n"
     ]
    }
   ],
   "source": [
    "show_df = pd.read_csv(\"Zichao's Magic Show.csv\")\n",
    "interrogation_df = pd.read_csv(\"Interrogation_Statements.csv\")\n",
    "print(show_df, interrogation_df)"
   ]
  },
  {
   "cell_type": "markdown",
   "metadata": {
    "id": "jT-hdhl-MdxA"
   },
   "source": [
    "We're **so close** to figuring out the *last* and *final* clue to locate the culprit, but it looks like they are trying to beat us to it! What a devious criminal!\n",
    "\n",
    "The culprit must have **sabotaged** our data after **interrogation** because it looks so wonky with weird symbols.\n",
    "\n",
    "However, HQ informed us that our good friend and exemplar cryptanalyst **Alan Turing** has something to say to help us fix the data. **He encoded his message to keep it safe from the culprit.**\n",
    "\n",
    "**TASK 4.2 (10 Points):**\n",
    "\n",
    "Find what **Alan Turing** has to say:\n",
    "- Use the **interrogation_df** to locate Alan's Turing's message.\n",
    "- Put the message in a variable called \"**encoded_message**\" as a string (**Exclude** any **quotation marks** within the statement)\n",
    " - **Print** the encoded message in the following format: {\"Encoded Message:\", encoded_message}\n",
    "- Figure out what the message says by taking a look at the numbers:\n",
    " - A **single space** between numbers indicates a letter to form a word.\n",
    " - A **double space** between numbers indicates the start of a new word.\n",
    "- Store his decoded message in a variable called \"**decoded_message**\"\n",
    "- Print out **Alan Turing's** decoded message in the following format: {\"Decoded Message:\", decoded_message}\n",
    "\n",
    "**Hint:** Maybe [enumerating](https://docs.python.org/3/library/functions.html#enumerate) to store letters to numbers might help along with using [ascii values](https://docs.python.org/3/library/string.html)"
   ]
  },
  {
   "cell_type": "code",
   "execution_count": 20,
   "metadata": {
    "id": "WjEAh8fOMY1q"
   },
   "outputs": [
    {
     "name": "stdout",
     "output_type": "stream",
     "text": [
      "Encoded Message: 20 8 5  16 1 20 20 5 18 14  9 19  20 15  3 12 5 1 14  21 16  20 8 5  6 9 12 5  2 25  18 5 13 15 22 9 14 7  1 6 20 5 18  5 1 3 8  22 15 23 5 12  20 8 5  19 25 13 2 15 12 19  16 5 18 3 5 14 20  4 15 12 12 1 18  3 1 18 18 15 20  1 20\n",
      "Decoded Message: the pattern is to clean up the file by removing after each vowel the symbols percent dollar carrot at \n"
     ]
    }
   ],
   "source": [
    "encoded_message = interrogation_df[interrogation_df['Name'] == 'Alan Turing']['Statement'].item()\n",
    "encoded_message = encoded_message.strip('\"')\n",
    "print(\"Encoded Message:\", encoded_message)\n",
    "\n",
    "# Create decoder\n",
    "alphabet = string.ascii_lowercase\n",
    "decoder = sorted(list(enumerate(alphabet, start=1)))\n",
    "\n",
    "# Split statement into words\n",
    "words = encoded_message.split(\"  \")\n",
    "\n",
    "decoded_message = \"\"\n",
    "#loop through words\n",
    "for word in words:\n",
    "    letters = word.split(\" \")\n",
    "    for letter in letters:\n",
    "        integer, decoded_letter = decoder[int(letter) - 1]\n",
    "        decoded_message += decoded_letter\n",
    "\n",
    "    # add space between words\n",
    "    decoded_message += \" \"\n",
    "\n",
    "print(\"Decoded Message:\", decoded_message)"
   ]
  },
  {
   "cell_type": "markdown",
   "metadata": {
    "id": "ftNs9XyDMv_8"
   },
   "source": [
    "**TASK 4.3 (10 Points):**\n",
    "\n",
    "**Restore** the interrogation statements back to their original state after **following the decoded message from before**.\n",
    "- After restoration, make sure your modifications are updated in the **interrogation_df** itself.\n",
    "- **Display** the **interrogation_df** when you are done."
   ]
  },
  {
   "cell_type": "code",
   "execution_count": 21,
   "metadata": {
    "id": "ZB8WvlKgMwtq"
   },
   "outputs": [
    {
     "data": {
      "text/html": [
       "<div>\n",
       "<style scoped>\n",
       "    .dataframe tbody tr th:only-of-type {\n",
       "        vertical-align: middle;\n",
       "    }\n",
       "\n",
       "    .dataframe tbody tr th {\n",
       "        vertical-align: top;\n",
       "    }\n",
       "\n",
       "    .dataframe thead th {\n",
       "        text-align: right;\n",
       "    }\n",
       "</style>\n",
       "<table border=\"1\" class=\"dataframe\">\n",
       "  <thead>\n",
       "    <tr style=\"text-align: right;\">\n",
       "      <th></th>\n",
       "      <th>Name</th>\n",
       "      <th>Statement</th>\n",
       "    </tr>\n",
       "  </thead>\n",
       "  <tbody>\n",
       "    <tr>\n",
       "      <th>0</th>\n",
       "      <td>Kristopher Stoichkov</td>\n",
       "      <td>\"Respecting others' belongings is my principle...</td>\n",
       "    </tr>\n",
       "    <tr>\n",
       "      <th>1</th>\n",
       "      <td>Naman Nagelia</td>\n",
       "      <td>\"I'd never jeopardize my reputation by stealin...</td>\n",
       "    </tr>\n",
       "    <tr>\n",
       "      <th>2</th>\n",
       "      <td>Pranavh Vallabhaneni</td>\n",
       "      <td>\"My project presentation occupied me in the en...</td>\n",
       "    </tr>\n",
       "    <tr>\n",
       "      <th>3</th>\n",
       "      <td>Stacy Sun</td>\n",
       "      <td>\"Three consecutive exams drained me that day. ...</td>\n",
       "    </tr>\n",
       "    <tr>\n",
       "      <th>4</th>\n",
       "      <td>Rina Kobayashi</td>\n",
       "      <td>\"I was off-campus attending a family event. Se...</td>\n",
       "    </tr>\n",
       "    <tr>\n",
       "      <th>...</th>\n",
       "      <td>...</td>\n",
       "      <td>...</td>\n",
       "    </tr>\n",
       "    <tr>\n",
       "      <th>495</th>\n",
       "      <td>Ishan Kar</td>\n",
       "      <td>\"I stole it in 2024 and bribed the police with...</td>\n",
       "    </tr>\n",
       "    <tr>\n",
       "      <th>496</th>\n",
       "      <td>Adrian Black</td>\n",
       "      <td>\"I was busy with my project presentation in an...</td>\n",
       "    </tr>\n",
       "    <tr>\n",
       "      <th>497</th>\n",
       "      <td>Brittany Taylor</td>\n",
       "      <td>\"I was busy with my group project meeting in a...</td>\n",
       "    </tr>\n",
       "    <tr>\n",
       "      <th>498</th>\n",
       "      <td>William Miller</td>\n",
       "      <td>\"I wasn't even on campus that day. Check the a...</td>\n",
       "    </tr>\n",
       "    <tr>\n",
       "      <th>499</th>\n",
       "      <td>Christopher Ferguson</td>\n",
       "      <td>\"Stealing? That's not in my nature at all. I r...</td>\n",
       "    </tr>\n",
       "  </tbody>\n",
       "</table>\n",
       "<p>500 rows × 2 columns</p>\n",
       "</div>"
      ],
      "text/plain": [
       "                     Name                                          Statement\n",
       "0    Kristopher Stoichkov  \"Respecting others' belongings is my principle...\n",
       "1           Naman Nagelia  \"I'd never jeopardize my reputation by stealin...\n",
       "2    Pranavh Vallabhaneni  \"My project presentation occupied me in the en...\n",
       "3               Stacy Sun  \"Three consecutive exams drained me that day. ...\n",
       "4          Rina Kobayashi  \"I was off-campus attending a family event. Se...\n",
       "..                    ...                                                ...\n",
       "495             Ishan Kar  \"I stole it in 2024 and bribed the police with...\n",
       "496          Adrian Black  \"I was busy with my project presentation in an...\n",
       "497       Brittany Taylor  \"I was busy with my group project meeting in a...\n",
       "498        William Miller  \"I wasn't even on campus that day. Check the a...\n",
       "499  Christopher Ferguson  \"Stealing? That's not in my nature at all. I r...\n",
       "\n",
       "[500 rows x 2 columns]"
      ]
     },
     "execution_count": 21,
     "metadata": {},
     "output_type": "execute_result"
    }
   ],
   "source": [
    "def restoreStatments(statement):\n",
    "    restored = statement.replace('%', '').replace(\"@\", '').replace('$', '').replace(\"^\", '')\n",
    "    return restored\n",
    "\n",
    "interrogation_df['Statement'] = interrogation_df['Statement'].apply(restoreStatments)\n",
    "interrogation_df"
   ]
  },
  {
   "cell_type": "markdown",
   "metadata": {
    "id": "Or4OCTuneqsh"
   },
   "source": [
    "\n",
    "**TASK 4.4 (8 Points):** Create a column called **Ticket_Color** for the **\"show_df\"** that displays all the colors of the ticket\n",
    "\n",
    "Remember that there was a show ticket left at the crime scene, take a second to look through **\"show_df\"**.\n",
    "- Try and find a way to identify how you can find the ticket color from the ticket number.\n",
    "- **Display** the **\"show_df\"** when you are done\n",
    "\n",
    "**HINT:** Examine the **\"interrogation_df\"**, someone might have an idea"
   ]
  },
  {
   "cell_type": "code",
   "execution_count": 22,
   "metadata": {
    "id": "Hse-UlMCeqsh"
   },
   "outputs": [
    {
     "data": {
      "text/html": [
       "<div>\n",
       "<style scoped>\n",
       "    .dataframe tbody tr th:only-of-type {\n",
       "        vertical-align: middle;\n",
       "    }\n",
       "\n",
       "    .dataframe tbody tr th {\n",
       "        vertical-align: top;\n",
       "    }\n",
       "\n",
       "    .dataframe thead th {\n",
       "        text-align: right;\n",
       "    }\n",
       "</style>\n",
       "<table border=\"1\" class=\"dataframe\">\n",
       "  <thead>\n",
       "    <tr style=\"text-align: right;\">\n",
       "      <th></th>\n",
       "      <th>ID</th>\n",
       "      <th>Ticket_Number</th>\n",
       "      <th>Ticket_Color</th>\n",
       "    </tr>\n",
       "  </thead>\n",
       "  <tbody>\n",
       "    <tr>\n",
       "      <th>0</th>\n",
       "      <td>P132</td>\n",
       "      <td>50269975</td>\n",
       "      <td>Red</td>\n",
       "    </tr>\n",
       "    <tr>\n",
       "      <th>1</th>\n",
       "      <td>P056</td>\n",
       "      <td>28120732</td>\n",
       "      <td>Red</td>\n",
       "    </tr>\n",
       "    <tr>\n",
       "      <th>2</th>\n",
       "      <td>P250</td>\n",
       "      <td>88051289</td>\n",
       "      <td>Blue</td>\n",
       "    </tr>\n",
       "    <tr>\n",
       "      <th>3</th>\n",
       "      <td>P197</td>\n",
       "      <td>79545169</td>\n",
       "      <td>Green</td>\n",
       "    </tr>\n",
       "    <tr>\n",
       "      <th>4</th>\n",
       "      <td>P012</td>\n",
       "      <td>83521845</td>\n",
       "      <td>Green</td>\n",
       "    </tr>\n",
       "    <tr>\n",
       "      <th>...</th>\n",
       "      <td>...</td>\n",
       "      <td>...</td>\n",
       "      <td>...</td>\n",
       "    </tr>\n",
       "    <tr>\n",
       "      <th>146</th>\n",
       "      <td>P121</td>\n",
       "      <td>31341288</td>\n",
       "      <td>Blue</td>\n",
       "    </tr>\n",
       "    <tr>\n",
       "      <th>147</th>\n",
       "      <td>P003</td>\n",
       "      <td>85008158</td>\n",
       "      <td>Red</td>\n",
       "    </tr>\n",
       "    <tr>\n",
       "      <th>148</th>\n",
       "      <td>P180</td>\n",
       "      <td>24491860</td>\n",
       "      <td>Red</td>\n",
       "    </tr>\n",
       "    <tr>\n",
       "      <th>149</th>\n",
       "      <td>P283</td>\n",
       "      <td>38524355</td>\n",
       "      <td>Red</td>\n",
       "    </tr>\n",
       "    <tr>\n",
       "      <th>150</th>\n",
       "      <td>P142</td>\n",
       "      <td>2238676</td>\n",
       "      <td>Red</td>\n",
       "    </tr>\n",
       "  </tbody>\n",
       "</table>\n",
       "<p>151 rows × 3 columns</p>\n",
       "</div>"
      ],
      "text/plain": [
       "       ID  Ticket_Number Ticket_Color\n",
       "0    P132       50269975          Red\n",
       "1    P056       28120732          Red\n",
       "2    P250       88051289         Blue\n",
       "3    P197       79545169        Green\n",
       "4    P012       83521845        Green\n",
       "..    ...            ...          ...\n",
       "146  P121       31341288         Blue\n",
       "147  P003       85008158          Red\n",
       "148  P180       24491860          Red\n",
       "149  P283       38524355          Red\n",
       "150  P142        2238676          Red\n",
       "\n",
       "[151 rows x 3 columns]"
      ]
     },
     "execution_count": 22,
     "metadata": {},
     "output_type": "execute_result"
    }
   ],
   "source": [
    "# Monkey D Luffy,\"\"\"Sum the individual #s in ticket numbers, look at the rightmost value, 0-2:B, 3-5:R , 6-7:G, 8-9:Y\"\"\"\n",
    "# from looking at statements with 'ticket' in it\n",
    "def ticketColor(number):\n",
    "    total = 0\n",
    "    for individual_number in str(number):\n",
    "        total += int(individual_number)\n",
    "\n",
    "    rightmost_number = int(str(total)[-1])\n",
    "    if rightmost_number in [0,1,2]:\n",
    "        return 'Blue'\n",
    "    elif rightmost_number in [3,4,5]:\n",
    "        return 'Red'\n",
    "    elif rightmost_number in [6,7]:\n",
    "        return 'Green'\n",
    "    else:\n",
    "        return 'Yellow'\n",
    "\n",
    "show_df['Ticket_Color'] = show_df['Ticket_Number'].apply(ticketColor)\n",
    "show_df"
   ]
  },
  {
   "cell_type": "markdown",
   "metadata": {
    "id": "oRbVWV7K8uD-"
   },
   "source": [
    "## Q5) Finding the culprit (12 PTS Total)\n",
    "\n",
    "A helpful function might be the \"iloc\" function. Have a look at: https://pandas.pydata.org/pandas-docs/stable/reference/api/pandas.DataFrame.iloc.html"
   ]
  },
  {
   "cell_type": "markdown",
   "metadata": {
    "id": "8zcamGVmAKOp"
   },
   "source": [
    "**TASK 5.1(10 Points):** Using all the **data compiled from before** find a person that matches all the features from the profile.\n",
    "\n",
    "- Do not hardcode or you will lose credit after all your hardwork 🥸\n",
    "\n",
    "- Put the name of the culprit in a variable called **\"culprit\"**\n",
    "- Print out the name of the culprit (There is only one)."
   ]
  },
  {
   "cell_type": "code",
   "execution_count": 69,
   "metadata": {
    "id": "atnueiYN_DsX"
   },
   "outputs": [
    {
     "data": {
      "text/plain": [
       "283    LeBron James\n",
       "Name: Name, dtype: object"
      ]
     },
     "execution_count": 69,
     "metadata": {},
     "output_type": "execute_result"
    }
   ],
   "source": [
    "# look at important_witnesses and see if any had a red ticket to the show\n",
    "red_tickets = show_df[show_df['Ticket_Color'] == 'Red']['ID']\n",
    "\n",
    "red_important_witness = pd.merge(red_tickets, important_witnesses, on='ID')\n",
    "\n",
    "red_second = pd.merge(red_tickets, important_witnesses, on='ID')\n",
    "red_second_no_duplicates = red_second.drop_duplicates(subset='ID', keep=False)\n",
    "\n",
    "\n",
    "# from important winesses see most common eye color\n",
    "eyes = []\n",
    "for statement in important_witnesses['Statement']:\n",
    "    words = statement.split()\n",
    "    for i in range(1, len(words)):\n",
    "        if words[i] == 'eyes':\n",
    "            eyes.append(words[i-1])\n",
    "\n",
    "\n",
    "eye_mode = statistics.mode(eyes)\n",
    "\n",
    "profile = profiles_df[(profiles_df['ID'].isin(red_second_no_duplicates['ID'])) & (profiles_df['Eye_Color']==eye_mode)]\n",
    "culprit = profile['Name']\n",
    "culprit\n",
    "\n",
    "\n"
   ]
  },
  {
   "cell_type": "markdown",
   "metadata": {
    "id": "IWNV2rhN_L8d"
   },
   "source": [
    "**TASK 5.2 (2 Points):** Check if your culprit is correct!\n",
    "\n",
    "**Interrogate** your culprit to see if you got the correct person."
   ]
  },
  {
   "cell_type": "code",
   "execution_count": 35,
   "metadata": {
    "id": "mV_RIdbB_T5w"
   },
   "outputs": [
    {
     "name": "stdout",
     "output_type": "stream",
     "text": [
      "468    \"Forgive me sunshine. The markers were just to...\n",
      "Name: Statement, dtype: object\n"
     ]
    }
   ],
   "source": [
    "print(interrogation_df[interrogation_df['Name']==culprit]['Statement'])"
   ]
  },
  {
   "cell_type": "markdown",
   "metadata": {
    "id": "jj1JAEOBfrw9"
   },
   "source": [
    "# GREAT WORK DETECTIVE!! 🌻"
   ]
  }
 ],
 "metadata": {
  "colab": {
   "provenance": []
  },
  "kernelspec": {
   "display_name": "Python 3",
   "name": "python3"
  },
  "language_info": {
   "codemirror_mode": {
    "name": "ipython",
    "version": 3
   },
   "file_extension": ".py",
   "mimetype": "text/x-python",
   "name": "python",
   "nbconvert_exporter": "python",
   "pygments_lexer": "ipython3",
   "version": "3.10.12"
  }
 },
 "nbformat": 4,
 "nbformat_minor": 0
}
